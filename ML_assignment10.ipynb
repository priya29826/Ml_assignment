{
  "nbformat": 4,
  "nbformat_minor": 0,
  "metadata": {
    "colab": {
      "provenance": []
    },
    "kernelspec": {
      "name": "python3",
      "display_name": "Python 3"
    },
    "language_info": {
      "name": "python"
    }
  },
  "cells": [
    {
      "cell_type": "markdown",
      "source": [
        "**1. Define the Bayesian interpretation of probability.**\n",
        "\n",
        "**Ans:** The Bayesian interpretation of probability views probability as a measure of uncertainty or degree of belief about the likelihood of an event occurring. In this framework, probabilities are assigned based on prior knowledge or subjective beliefs, which are then updated in light of new evidence using Bayes' theorem.\n",
        "\n",
        "Bayes' theorem mathematically describes how to update the prior probability of an event based on new evidence, incorporating both the prior probability and the likelihood of the evidence given the event. This approach allows for a flexible and intuitive way to reason about uncertainty, particularly in situations where there may be limited data or where subjective judgments play a significant role."
      ],
      "metadata": {
        "id": "SwzJQpctQkZT"
      }
    },
    {
      "cell_type": "markdown",
      "source": [
        "**2. Define probability of a union of two events with equation.**\n",
        "\n",
        "**Ans:** The probability of the union of two events\n",
        "A and B, denoted as P(A∪B), is the probability that at least one of the events\n",
        "A or B occurs. Mathematically, it is defined as:\n",
        "\n",
        "P(A∪B)=P(A)+P(B)−P(A∩B)\n",
        "\n",
        "Where:\n",
        "\n",
        "* P(A) is the probability of event A occurring.\n",
        "* P(B) is the probability of event B occurring.\n",
        "* P(A∩B) is the probability of both events A and B occurring simultaneously.\n",
        "\n",
        "This equation accounts for the fact that if we simply add the probabilities of\n",
        "A and B, we would be double-counting the probability of their intersection\n",
        "A∩B. So, we subtract the probability of their intersection to avoid double-counting.\n",
        "\n",
        "\n",
        "\n",
        "\n"
      ],
      "metadata": {
        "id": "_ESyYJgVQyfn"
      }
    },
    {
      "cell_type": "markdown",
      "source": [
        "**3. What is joint probability? What is its formula?**\n",
        "\n",
        "**Ans:** Joint probability refers to the probability of the occurrence of two (or more) events simultaneously. In other words, it represents the likelihood that both events happen together.\n",
        "\n",
        "The formula for the joint probability of two events A and B, denoted as P(A∩B), is given by:\n",
        "\n",
        "P(A∩B)=P(A)×P(B∣A)\n",
        "\n",
        "Alternatively, it can be calculated as:\n",
        "\n",
        "P(A∩B)=P(B)×P(A∣B)\n",
        "\n",
        "Where:\n",
        "* P(A) and P(B) are the probabilities of events A and B occurring, respectively.\n",
        "* P(B∣A) represents the conditional probability of event B occurring given that event A has occurred.\n",
        "* P(A∣B) represents the conditional probability of event A occurring given that event B has occurred.\n"
      ],
      "metadata": {
        "id": "4CFlb7EfSeOC"
      }
    },
    {
      "cell_type": "markdown",
      "source": [
        "**4. What is chain rule of probability?**\n",
        "\n",
        "**Ans:** The chain rule of probability, also known as the multiplication rule or the product rule, is a fundamental principle in probability theory that allows us to calculate the probability of the intersection of multiple events by breaking it down into conditional probabilities.\n",
        "\n",
        "For a sequence of events A1,A2,...,An, the chain rule states that the joint probability of all events occurring can be calculated as the product of the conditional probabilities of each event given the occurrences of the previous events."
      ],
      "metadata": {
        "id": "dJ5IDYK9cL99"
      }
    },
    {
      "cell_type": "markdown",
      "source": [
        "**5. What is conditional probability means? What is the formula of it?**\n",
        "\n",
        "**Ans:** Conditional probability is the probability of an event occurring given that another event has already occurred. It is denoted as P(A∣B), which reads as \"the probability of event A given event B\".\n",
        "\n",
        "The formula for conditional probability is:\n",
        "\n",
        "P(A∣B)= P(A∩B)/ P(B)\n",
        "\n",
        "Where:\n",
        "\n",
        "* P(A∩B) is the joint probability of events A and B.\n",
        "* P(B) is the probability of event B occurring."
      ],
      "metadata": {
        "id": "ugtslhvieWYa"
      }
    },
    {
      "cell_type": "markdown",
      "source": [
        "**6. What are continuous random variables?**\n",
        "\n",
        "**Ans:** Continuous random variables are variables that can take an infinite number of values within a given range. They are typically associated with measurements and can take any value within a certain interval. Examples include height, weight, temperature, and time."
      ],
      "metadata": {
        "id": "GeVXMu7Db6cj"
      }
    },
    {
      "cell_type": "markdown",
      "source": [
        "**7. What are Bernoulli distributions? What is the formula of it?**\n",
        "\n",
        "**Ans:** The Bernoulli distribution is a discrete probability distribution that models a single trial of a binary outcome, where the outcome can be either success or failure. It is characterized by a single parameter\n",
        "p, which represents the probability of success.\n",
        "\n",
        "The probability mass function (PMF) of a Bernoulli distribution is:\n",
        "\n",
        "P(X=x)={ p    if x=1  , 1−p   if x=0\n",
        "\n",
        "\n",
        "Where:\n",
        "\n",
        "* X is a random variable representing the outcome of a single trial.\n",
        "* p is the probability of success (the parameter of the distribution).\n",
        "* x is the outcome, which can be either 1 (success) or 0 (failure)."
      ],
      "metadata": {
        "id": "U19gGGvFfH5c"
      }
    },
    {
      "cell_type": "markdown",
      "source": [
        "**8. What is binomial distribution? What is the formula?**\n",
        "\n",
        "**Ans:** The binomial distribution is a discrete probability distribution that represents the number of successes in a fixed number of independent Bernoulli trials, each with the same probability of success p.\n",
        "\n",
        "The probability mass function (PMF) of a binomial distribution is:\n",
        "\n",
        "P(X=k)=(\n",
        "k\n",
        "n\n",
        "​\n",
        " )×p\n",
        "k\n",
        " ×(1−p)\n",
        "n−k\n",
        "\n",
        "Where:\n",
        "\n",
        "\n",
        "* X is a random variable representing the number of successes.\n",
        "* n is the number of trials.\n",
        "* k is the number of successes.\n",
        "* p is the probability of success on each trial.\n",
        "* ( kn​) is the binomial coefficient, also known as \"n choose k\", representing the number of ways to choose k successes out of n trials."
      ],
      "metadata": {
        "id": "n3ZoKBnxfdwc"
      }
    },
    {
      "cell_type": "markdown",
      "source": [
        "**9. What is Poisson distribution? What is the formula?**\n",
        "\n",
        "**Ans:** The Poisson distribution is a discrete probability distribution that models the number of events occurring within a fixed interval of time or space, given a known average rate of occurrence\n",
        "λ.\n",
        "\n",
        "The probability mass function (PMF) of a Poisson distribution is:\n",
        "\n",
        "P(X=k)= e−λ×λk / k!\n",
        "\n",
        "Where:\n",
        "\n",
        "* X is a random variable representing the number of events.\n",
        "* k is the number of events.\n",
        "* λ is the average rate of occurrence (also the parameter of the distribution).\n",
        "* e is Euler's number (approximately 2.71828).\n",
        "* k! denotes the factorial of k, i.e., the product of all positive integers up to k."
      ],
      "metadata": {
        "id": "NMTtuXYEfzLF"
      }
    },
    {
      "cell_type": "markdown",
      "source": [
        "**10. Define covariance.**\n",
        "\n",
        "**Ans:** Covariance measures the degree to which two random variables change together. It indicates the direction of the linear relationship between two variables. If the covariance is positive, it means that as one variable increases, the other tends to increase as well. If the covariance is negative, it means that as one variable increases, the other tends to decrease. A covariance of zero indicates no linear relationship."
      ],
      "metadata": {
        "id": "RXbInLSebtCJ"
      }
    },
    {
      "cell_type": "markdown",
      "source": [
        "\n",
        "**11. Define correlation.**\n",
        "\n",
        "**Ans:** Correlation is a standardized measure of the linear relationship between two variables. It quantifies the strength and direction of the relationship between variables, ranging from -1 to 1. A correlation of 1 indicates a perfect positive linear relationship, -1 indicates a perfect negative linear relationship, and 0 indicates no linear relationship."
      ],
      "metadata": {
        "id": "TnmGNZp8bIKr"
      }
    },
    {
      "cell_type": "markdown",
      "source": [
        "**12. Define sampling with replacement. Give example.**\n",
        "\n",
        "**Ans:** Sampling with replacement is a method of selecting items from a population where each item is selected randomly and then returned to the population before the next selection. This means that an item can be selected more than once.\n",
        "\n",
        "For example, if you have a bag containing five balls numbered from 1 to 5 and you randomly select one ball, record its number, return it to the bag, and repeat this process multiple times, that would be sampling with replacement."
      ],
      "metadata": {
        "id": "UI19L-_Ja_Nx"
      }
    },
    {
      "cell_type": "markdown",
      "source": [
        "**13. What is sampling without replacement? Give example.**\n",
        "\n",
        "**Ans:** Sampling without replacement is a method of selecting items from a population where each item is selected randomly and then not returned to the population before the next selection. This means that each item can only be selected once.\n",
        "\n",
        "For example, if you have a deck of cards and you randomly draw one card, record its value, and do not return it to the deck before drawing the next card, that would be sampling without replacement."
      ],
      "metadata": {
        "id": "Kpbuq4-8aqjO"
      }
    },
    {
      "cell_type": "markdown",
      "source": [
        "**14. What is hypothesis? Give example.**\n",
        "\n",
        "**Ans:** In statistics, a hypothesis is a statement or claim about a population parameter. It is often formulated to be tested using statistical methods.\n",
        "\n",
        "For example, a hypothesis could be that the average height of adult males in a certain country is 175 centimeters. This hypothesis can be tested by collecting data on the heights of a sample of adult males from that country"
      ],
      "metadata": {
        "id": "rGfMo0dCTaVW"
      }
    }
  ]
}